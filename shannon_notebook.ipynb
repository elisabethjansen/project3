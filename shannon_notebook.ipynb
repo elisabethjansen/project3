{
 "cells": [
  {
   "cell_type": "markdown",
   "id": "cf1c52ef-0cd9-4213-ac85-9d5d64dae716",
   "metadata": {},
   "source": [
    "## Shannon scratches - see 10.1-3"
   ]
  },
  {
   "cell_type": "code",
   "execution_count": 3,
   "id": "2a65ffdd-4640-412d-86e6-ac4ffe0eb376",
   "metadata": {},
   "outputs": [],
   "source": [
    "# Dependencies\n",
    "import pandas as pd\n",
    "from pathlib import Path\n",
    "# Python SQL toolkit and Object Relational Mapper\n",
    "import sqlalchemy\n",
    "from sqlalchemy.orm import Session\n",
    "from sqlalchemy import create_engine\n",
    "from sqlalchemy import func\n"
   ]
  },
  {
   "cell_type": "code",
   "execution_count": null,
   "id": "a51e2a59-f600-4559-9bbb-676db7073f1b",
   "metadata": {},
   "outputs": [],
   "source": [
    "# Dependencies\n",
    "# ----------------------------------\n",
    "# Imports the method used for connecting to DBs\n",
    "from sqlalchemy import create_engine\n",
    "\n",
    "# Imports the methods needed to abstract classes into tables\n",
    "from sqlalchemy.ext.declarative import declarative_base\n",
    "\n",
    "# Allow us to declare column types\n",
    "from sqlalchemy import Column, Integer, String, Float "
   ]
  },
  {
   "cell_type": "code",
   "execution_count": null,
   "id": "3c531fb3-242f-4085-bdd9-64908b18cb0c",
   "metadata": {},
   "outputs": [],
   "source": [
    "# Create Database Connection\n",
    "# ----------------------------------\n",
    "# Establish Connection\n",
    "engine = create_engine(\"sqlite:///surfer.sqlite\")\n",
    "conn = engine.connect()"
   ]
  },
  {
   "cell_type": "code",
   "execution_count": null,
   "id": "8a19fff8-597d-42f2-9088-9e53bf149896",
   "metadata": {},
   "outputs": [],
   "source": [
    "# Create a \"Metadata\" Layer That Abstracts our SQL Database\n",
    "# ----------------------------------\n",
    "# Create (if not already in existence) the tables associated with our classes.\n",
    "Base.metadata.create_all(engine)"
   ]
  },
  {
   "cell_type": "code",
   "execution_count": null,
   "id": "02624ec4-d0b9-494f-bec5-a080dcb04902",
   "metadata": {},
   "outputs": [],
   "source": [
    "# Create a Session Object to Connect to DB\n",
    "# ----------------------------------\n",
    "# Session is a temporary binding to our DB\n",
    "from sqlalchemy.orm import Session\n",
    "session = Session(bind=engine)"
   ]
  },
  {
   "cell_type": "code",
   "execution_count": null,
   "id": "c07ed4ea-0a83-45c3-88ea-46d6407032d3",
   "metadata": {},
   "outputs": [],
   "source": [
    "# Use this to clear out the db\n",
    "# ----------------------------------\n",
    "Base.metadata.drop_all(engine)"
   ]
  },
  {
   "cell_type": "code",
   "execution_count": 5,
   "id": "9d52254e-c3e4-4809-af7e-584ccce81c9a",
   "metadata": {},
   "outputs": [],
   "source": [
    "# Jordan said to use this code:\n",
    "for row in session.query(Demographics.id, Demographics.location).limit(5).all():\n",
    "    print(row)"
   ]
  },
  {
   "cell_type": "code",
   "execution_count": null,
   "id": "8cc32f07-613e-4a08-8c62-cc45e3cb3f61",
   "metadata": {},
   "outputs": [],
   "source": [
    "# OR from sqlalchemy import create_engine\n",
    "import pandas as pd\n",
    "\n",
    "# Define the SQLite database file\n",
    "db_file = \"your_database_file.db\"\n",
    "\n",
    "# Create an SQLAlchemy engine\n",
    "engine = create_engine(f\"sqlite:///{db_file}\")\n",
    "\n",
    "# Test the connection\n",
    "with engine.connect() as connection:\n",
    "    result = connection.execute(\"SELECT sqlite_version();\")\n",
    "    print(result.fetchone())"
   ]
  },
  {
   "cell_type": "code",
   "execution_count": null,
   "id": "ad4a0ffa-1b08-4cf7-8151-4b9e43632a84",
   "metadata": {},
   "outputs": [],
   "source": [
    "# Query to fetch the data\n",
    "query = \"SELECT * FROM flight_data;\"\n",
    "\n",
    "# Load data into a pandas DataFrame\n",
    "df = pd.read_sql(query, engine)\n",
    "\n",
    "# Display the DataFrame\n",
    "print(df.head())"
   ]
  },
  {
   "cell_type": "code",
   "execution_count": null,
   "id": "62389b5a-9f6c-4354-910a-236d7739ba35",
   "metadata": {},
   "outputs": [],
   "source": [
    "total_arrivals_ranking = df[['carrier_name', 'total_arrivals']].sort_values(by='total_arrivals', ascending=False)\n",
    "print(total_arrivals_ranking)\n"
   ]
  },
  {
   "cell_type": "code",
   "execution_count": null,
   "id": "ce983a4a-ba3d-4ae1-8b68-f128ed98a3a6",
   "metadata": {},
   "outputs": [],
   "source": []
  }
 ],
 "metadata": {
  "kernelspec": {
   "display_name": "Python 3 (ipykernel)",
   "language": "python",
   "name": "python3"
  },
  "language_info": {
   "codemirror_mode": {
    "name": "ipython",
    "version": 3
   },
   "file_extension": ".py",
   "mimetype": "text/x-python",
   "name": "python",
   "nbconvert_exporter": "python",
   "pygments_lexer": "ipython3",
   "version": "3.11.7"
  }
 },
 "nbformat": 4,
 "nbformat_minor": 5
}
