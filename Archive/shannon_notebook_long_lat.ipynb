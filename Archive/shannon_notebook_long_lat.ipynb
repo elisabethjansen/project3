{
 "cells": [
  {
   "cell_type": "markdown",
   "id": "cf1c52ef-0cd9-4213-ac85-9d5d64dae716",
   "metadata": {},
   "source": [
    "## Shannon tests"
   ]
  },
  {
   "cell_type": "code",
   "execution_count": 5,
   "id": "e8c13638-45b0-44d2-b741-5d08ca01e0a0",
   "metadata": {},
   "outputs": [],
   "source": [
    "from sqlalchemy import create_engine\n",
    "import pandas as pd"
   ]
  },
  {
   "cell_type": "code",
   "execution_count": 21,
   "id": "a33160f0-a0d4-425e-ad27-4b25c13c5aa2",
   "metadata": {},
   "outputs": [
    {
     "name": "stdout",
     "output_type": "stream",
     "text": [
      "Updated DataFrame with longitude and latitude:\n",
      "   flight_data_id  month       carrier_name airport  \\\n",
      "0               1     12  Endeavor Air Inc.     ABE   \n",
      "1               2     12  Endeavor Air Inc.     AEX   \n",
      "2               3     12  Endeavor Air Inc.     AGS   \n",
      "3               4     12  Endeavor Air Inc.     ALB   \n",
      "4               5     12  Endeavor Air Inc.     ATL   \n",
      "\n",
      "                             city  total_arrivals  total_delays_ct  \\\n",
      "0  Allentown/Bethlehem/Easton, PA              72                5   \n",
      "1                  Alexandria, LA              62                7   \n",
      "2                     Augusta, GA              95               10   \n",
      "3                      Albany, NY              23                2   \n",
      "4                     Atlanta, GA            2111              256   \n",
      "\n",
      "   carrier_ct  weather_ct  nat_air_sys_ct  ...  flight_cancelled  \\\n",
      "0        2.46        1.00            0.73  ...                 0   \n",
      "1        4.25        0.00            1.00  ...                 0   \n",
      "2        5.94        0.00            1.06  ...                 0   \n",
      "3        0.56        0.00            0.00  ...                 1   \n",
      "4       76.88        8.75           52.43  ...                 1   \n",
      "\n",
      "   flight_diverted  total_delays_min  carrier_delay_min  weather_delay_min  \\\n",
      "0                0               672                 61                574   \n",
      "1                0               348                252                  0   \n",
      "2                0               859                536                  0   \n",
      "3                0                75                  9                  0   \n",
      "4                0             21424               8906                732   \n",
      "\n",
      "   nat_air_sys_delay_min  security_delay_min  late_aircraft_delay_min  \\\n",
      "0                     20                   0                       17   \n",
      "1                     33                   0                       63   \n",
      "2                     47                   0                      276   \n",
      "3                      0                   0                       66   \n",
      "4                   1487                   0                    10299   \n",
      "\n",
      "    longitude   latitude  \n",
      "0  -84.374393  40.165883  \n",
      "1  -92.540955  31.329274  \n",
      "2 -122.396008  37.779418  \n",
      "3 -115.002136  55.001251  \n",
      "4  -84.429271  33.637799  \n",
      "\n",
      "[5 rows x 22 columns]\n",
      "Updated DataFrame saved to 'updated_file.csv'\n"
     ]
    }
   ],
   "source": [
    "# Load the existing CSV file\n",
    "existing_df = pd.read_csv('2023_data_cleaned.csv')\n",
    "\n",
    "# Load the additional CSV file with airport coordinates\n",
    "coordinates_df = pd.read_csv('output.csv')\n",
    "\n",
    "# Ensure no duplicate airports in coordinates_df\n",
    "coordinates_df = coordinates_df.drop_duplicates(subset=['airport'])\n",
    "\n",
    "# Create empty columns in the existing DataFrame for longitude and latitude\n",
    "existing_df['longitude'] = None\n",
    "existing_df['latitude'] = None\n",
    "\n"
   ]
  },
  {
   "cell_type": "code",
   "execution_count": null,
   "id": "4decd8e1-751f-44d3-89b1-0b20de63360a",
   "metadata": {},
   "outputs": [],
   "source": [
    "# Create a dictionary for quick lookup of coordinates\n",
    "coordinates_dict = coordinates_df.set_index('airport')[['longitude', 'latitude']].to_dict('index')\n",
    "\n",
    "# Iterate through each row in the existing DataFrame\n",
    "for index, row in existing_df.iterrows():\n",
    "    airport_code = row['airport']\n",
    "    if airport_code in coordinates_dict:\n",
    "        existing_df.at[index, 'longitude'] = coordinates_dict[airport_code]['longitude']\n",
    "        existing_df.at[index, 'latitude'] = coordinates_dict[airport_code]['latitude']\n",
    "\n",
    "# Display the updated DataFrame to verify longitude and latitude are added\n",
    "print(\"Updated DataFrame with longitude and latitude:\")\n",
    "print(existing_df.head())"
   ]
  },
  {
   "cell_type": "code",
   "execution_count": null,
   "id": "3f81ef25-8c2e-47f1-977f-f7552bf538e9",
   "metadata": {},
   "outputs": [],
   "source": [
    "# Save the updated DataFrame to a new CSV file\n",
    "existing_df.to_csv('long_lat_test.csv', index=False)"
   ]
  },
  {
   "cell_type": "code",
   "execution_count": null,
   "id": "b471af06-eab2-451a-a399-f43e3b2800df",
   "metadata": {},
   "outputs": [],
   "source": [
    "# Confirm the file is saved and display a message\n",
    "print(\"Updated DataFrame saved to 'updated_file.csv'\")"
   ]
  },
  {
   "cell_type": "code",
   "execution_count": null,
   "id": "8d210a3a-39c2-412a-b507-4de9fc3c9cc2",
   "metadata": {},
   "outputs": [],
   "source": []
  }
 ],
 "metadata": {
  "kernelspec": {
   "display_name": "Python 3 (ipykernel)",
   "language": "python",
   "name": "python3"
  },
  "language_info": {
   "codemirror_mode": {
    "name": "ipython",
    "version": 3
   },
   "file_extension": ".py",
   "mimetype": "text/x-python",
   "name": "python",
   "nbconvert_exporter": "python",
   "pygments_lexer": "ipython3",
   "version": "3.11.7"
  }
 },
 "nbformat": 4,
 "nbformat_minor": 5
}
