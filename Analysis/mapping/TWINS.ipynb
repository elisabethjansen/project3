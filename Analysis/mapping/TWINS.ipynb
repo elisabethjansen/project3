{
 "cells": [
  {
   "cell_type": "code",
   "execution_count": 3,
   "id": "dba09dfd-3598-4063-9f07-2d412d9de507",
   "metadata": {},
   "outputs": [],
   "source": [
    "from sqlalchemy import create_engine\n",
    "import pandas as pd"
   ]
  },
  {
   "cell_type": "code",
   "execution_count": 4,
   "id": "20b6fa97-2a56-4f2a-a983-933e2f716bdf",
   "metadata": {},
   "outputs": [],
   "source": [
    "# Load the existing CSV file\n",
    "existing_df = pd.read_csv('2023_data_cleanedcopy.csv')\n",
    "\n",
    "# Load the additional CSV file with airport coordinates\n",
    "coordinates_df = pd.read_csv('output.csv')\n",
    "\n",
    "# Ensure no duplicate airports in coordinates_df\n",
    "coordinates_df = coordinates_df.drop_duplicates(subset=['airport'])\n",
    "\n",
    "# Create empty columns in the existing DataFrame for longitude and latitude\n",
    "existing_df['longitude'] = None\n",
    "existing_df['latitude'] = None\n",
    "\n"
   ]
  },
  {
   "cell_type": "code",
   "execution_count": 5,
   "id": "870c21be-57fb-49bc-9c91-7aeb3cd5caef",
   "metadata": {},
   "outputs": [
    {
     "name": "stdout",
     "output_type": "stream",
     "text": [
      "Updated DataFrame with longitude and latitude:\n",
      "   month       carrier_name airport                            city  \\\n",
      "0     12  Endeavor Air Inc.     ABE  Allentown/Bethlehem/Easton, PA   \n",
      "1     12  Endeavor Air Inc.     AEX                  Alexandria, LA   \n",
      "2     12  Endeavor Air Inc.     AGS                     Augusta, GA   \n",
      "3     12  Endeavor Air Inc.     ALB                      Albany, NY   \n",
      "4     12  Endeavor Air Inc.     ATL                     Atlanta, GA   \n",
      "\n",
      "   total_arrivals  total_delays_ct  carrier_ct  weather_ct  nat_air_sys_ct  \\\n",
      "0            72.0              5.0        2.46        1.00            0.73   \n",
      "1            62.0              7.0        4.25        0.00            1.00   \n",
      "2            95.0             10.0        5.94        0.00            1.06   \n",
      "3            23.0              2.0        0.56        0.00            0.00   \n",
      "4          2111.0            256.0       76.88        8.75           52.43   \n",
      "\n",
      "   security_ct  ...  flight_cancelled  flight_diverted  total_delays_min  \\\n",
      "0          0.0  ...               0.0              0.0             672.0   \n",
      "1          0.0  ...               0.0              0.0             348.0   \n",
      "2          0.0  ...               0.0              0.0             859.0   \n",
      "3          0.0  ...               1.0              0.0              75.0   \n",
      "4          0.0  ...               1.0              0.0           21424.0   \n",
      "\n",
      "   carrier_delay_min  weather_delay_min  nat_air_sys_delay_min  \\\n",
      "0               61.0              574.0                   20.0   \n",
      "1              252.0                0.0                   33.0   \n",
      "2              536.0                0.0                   47.0   \n",
      "3                9.0                0.0                    0.0   \n",
      "4             8906.0              732.0                 1487.0   \n",
      "\n",
      "   security_delay_min  late_aircraft_delay_min   longitude   latitude  \n",
      "0                 0.0                     17.0  -84.374393  40.165883  \n",
      "1                 0.0                     63.0  -92.540955  31.329274  \n",
      "2                 0.0                    276.0 -122.396008  37.779418  \n",
      "3                 0.0                     66.0 -115.002136  55.001251  \n",
      "4                 0.0                  10299.0  -84.429271  33.637799  \n",
      "\n",
      "[5 rows x 21 columns]\n"
     ]
    }
   ],
   "source": [
    "# Create a dictionary for quick lookup of coordinates\n",
    "coordinates_dict = coordinates_df.set_index('airport')[['longitude', 'latitude']].to_dict('index')\n",
    "\n",
    "# Iterate through each row in the existing DataFrame\n",
    "for index, row in existing_df.iterrows():\n",
    "    airport_code = row['airport']\n",
    "    if airport_code in coordinates_dict:\n",
    "        existing_df.at[index, 'longitude'] = coordinates_dict[airport_code]['longitude']\n",
    "        existing_df.at[index, 'latitude'] = coordinates_dict[airport_code]['latitude']\n",
    "\n",
    "# Display the updated DataFrame to verify longitude and latitude are added\n",
    "print(\"Updated DataFrame with longitude and latitude:\")\n",
    "print(existing_df.head())"
   ]
  },
  {
   "cell_type": "code",
   "execution_count": 6,
   "id": "0fd48b2a-32ef-4a7c-9147-b90aac0fc180",
   "metadata": {},
   "outputs": [],
   "source": [
    "# Save the updated DataFrame to a new CSV file\n",
    "existing_df.to_csv('long_lat_test.csv', index=False)"
   ]
  },
  {
   "cell_type": "code",
   "execution_count": 7,
   "id": "e2201305-fc73-435f-910e-a9e89d58276e",
   "metadata": {},
   "outputs": [
    {
     "name": "stdout",
     "output_type": "stream",
     "text": [
      "Updated DataFrame saved to 'updated_file.csv'\n"
     ]
    }
   ],
   "source": [
    "# Confirm the file is saved and display a message\n",
    "print(\"Updated DataFrame saved to 'updated_file.csv'\")"
   ]
  },
  {
   "cell_type": "code",
   "execution_count": 5,
   "id": "ffb61c8b-6618-4d58-9b42-d441c7f5af27",
   "metadata": {},
   "outputs": [
    {
     "ename": "ValueError",
     "evalue": "could not convert string to float: 'airport'",
     "output_type": "error",
     "traceback": [
      "\u001b[0;31m---------------------------------------------------------------------------\u001b[0m",
      "\u001b[0;31mValueError\u001b[0m                                Traceback (most recent call last)",
      "Cell \u001b[0;32mIn[5], line 17\u001b[0m\n\u001b[1;32m     13\u001b[0m d \u001b[38;5;241m=\u001b[39m OrderedDict()\n\u001b[1;32m     14\u001b[0m d[\u001b[38;5;124m'\u001b[39m\u001b[38;5;124mtype\u001b[39m\u001b[38;5;124m'\u001b[39m] \u001b[38;5;241m=\u001b[39m \u001b[38;5;124m'\u001b[39m\u001b[38;5;124mFeature\u001b[39m\u001b[38;5;124m'\u001b[39m\n\u001b[1;32m     15\u001b[0m d[\u001b[38;5;124m'\u001b[39m\u001b[38;5;124mgeometry\u001b[39m\u001b[38;5;124m'\u001b[39m] \u001b[38;5;241m=\u001b[39m {\n\u001b[1;32m     16\u001b[0m     \u001b[38;5;124m'\u001b[39m\u001b[38;5;124mtype\u001b[39m\u001b[38;5;124m'\u001b[39m: \u001b[38;5;124m'\u001b[39m\u001b[38;5;124mPoint\u001b[39m\u001b[38;5;124m'\u001b[39m,\n\u001b[0;32m---> 17\u001b[0m     \u001b[38;5;124m'\u001b[39m\u001b[38;5;124mcoordinates\u001b[39m\u001b[38;5;124m'\u001b[39m: [\u001b[38;5;28mfloat\u001b[39m(latitude), \u001b[38;5;28mfloat\u001b[39m(longitude)]\n\u001b[1;32m     18\u001b[0m }\n\u001b[1;32m     19\u001b[0m d[\u001b[38;5;124m'\u001b[39m\u001b[38;5;124mproperties\u001b[39m\u001b[38;5;124m'\u001b[39m] \u001b[38;5;241m=\u001b[39m {\n\u001b[1;32m     20\u001b[0m     \u001b[38;5;124m'\u001b[39m\u001b[38;5;124mTotal Delays\u001b[39m\u001b[38;5;124m'\u001b[39m: total_delays_ct,\n\u001b[1;32m     21\u001b[0m     \u001b[38;5;124m'\u001b[39m\u001b[38;5;124mAirport\u001b[39m\u001b[38;5;124m'\u001b[39m: airport\n\u001b[1;32m     22\u001b[0m }\n\u001b[1;32m     23\u001b[0m li\u001b[38;5;241m.\u001b[39mappend(d)\n",
      "\u001b[0;31mValueError\u001b[0m: could not convert string to float: 'airport'"
     ]
    }
   ],
   "source": [
    "import csv\n",
    "import json\n",
    "from collections import OrderedDict\n",
    "\n",
    "li = []\n",
    "with open('clean_plots.csv', 'r') as csvfile:\n",
    "    reader = csv.reader(csvfile, delimiter=',')\n",
    "    for row in reader:\n",
    "        latitude = row[0]\n",
    "        longitude = row[1]\n",
    "        total_delays_ct = row[2]\n",
    "\n",
    "        d = OrderedDict()\n",
    "        d['type'] = 'Feature'\n",
    "        d['geometry'] = {\n",
    "            'type': 'Point',\n",
    "            'coordinates': [float(latitude), float(longitude)]\n",
    "        }\n",
    "        d['properties'] = {\n",
    "            'Total Delays': total_delays_ct,\n",
    "            'Airport': airport\n",
    "        }\n",
    "        li.append(d)\n",
    "\n",
    "d = OrderedDict()\n",
    "d['type'] = 'FeatureCollection'\n",
    "d['features'] = li\n",
    "with open('GeoObs.json', 'w') as f:\n",
    "    f.write(json.dumps(d, sort_keys=False, indent=4))"
   ]
  },
  {
   "cell_type": "code",
   "execution_count": 2,
   "id": "106b94d8-6327-489f-873a-f347fa8e4693",
   "metadata": {},
   "outputs": [
    {
     "ename": "ValueError",
     "evalue": "too many values to unpack (expected 3)",
     "output_type": "error",
     "traceback": [
      "\u001b[0;31m---------------------------------------------------------------------------\u001b[0m",
      "\u001b[0;31mValueError\u001b[0m                                Traceback (most recent call last)",
      "Cell \u001b[0;32mIn[2], line 7\u001b[0m\n\u001b[1;32m      5\u001b[0m \u001b[38;5;28;01mwith\u001b[39;00m \u001b[38;5;28mopen\u001b[39m(\u001b[38;5;124m'\u001b[39m\u001b[38;5;124mlong_lat_test.csv\u001b[39m\u001b[38;5;124m'\u001b[39m, newline\u001b[38;5;241m=\u001b[39m\u001b[38;5;124m'\u001b[39m\u001b[38;5;124m'\u001b[39m) \u001b[38;5;28;01mas\u001b[39;00m csvfile:\n\u001b[1;32m      6\u001b[0m     reader \u001b[38;5;241m=\u001b[39m csv\u001b[38;5;241m.\u001b[39mreader(csvfile, delimiter\u001b[38;5;241m=\u001b[39m\u001b[38;5;124m'\u001b[39m\u001b[38;5;124m,\u001b[39m\u001b[38;5;124m'\u001b[39m)\n\u001b[0;32m----> 7\u001b[0m     \u001b[38;5;28;01mfor\u001b[39;00m latitude, longitude, total_delays_ct \u001b[38;5;129;01min\u001b[39;00m reader:\n\u001b[1;32m      8\u001b[0m         latitude, longitude \u001b[38;5;241m=\u001b[39m \u001b[38;5;28mmap\u001b[39m(\u001b[38;5;28mfloat\u001b[39m, (latitude, longitude))\n\u001b[1;32m      9\u001b[0m         features\u001b[38;5;241m.\u001b[39mappend(\n\u001b[1;32m     10\u001b[0m             Feature(\n\u001b[1;32m     11\u001b[0m                 geometry \u001b[38;5;241m=\u001b[39m Point((longitude, latitude)),\n\u001b[0;32m   (...)\u001b[0m\n\u001b[1;32m     15\u001b[0m             )\n\u001b[1;32m     16\u001b[0m         )\n",
      "\u001b[0;31mValueError\u001b[0m: too many values to unpack (expected 3)"
     ]
    }
   ],
   "source": [
    "import csv, json\n",
    "from geojson import Feature, FeatureCollection, Point\n",
    "\n",
    "features = []\n",
    "with open('long_lat_test.csv', newline='') as csvfile:\n",
    "    reader = csv.reader(csvfile, delimiter=',')\n",
    "    for latitude, longitude, total_delays_ct in reader:\n",
    "        latitude, longitude = map(float, (latitude, longitude))\n",
    "        features.append(\n",
    "            Feature(\n",
    "                geometry = Point((longitude, latitude)),\n",
    "                properties = {\n",
    "                    'Total Delays': total_delays_ct\n",
    "                }\n",
    "            )\n",
    "        )\n",
    "\n",
    "collection = FeatureCollection(features)\n",
    "with open(\"GeoObs.json\", \"w\") as f:\n",
    "    f.write('%s' % collection)"
   ]
  },
  {
   "cell_type": "code",
   "execution_count": null,
   "id": "7a2752b1-431d-452f-8056-f3852c7a14e4",
   "metadata": {},
   "outputs": [],
   "source": []
  }
 ],
 "metadata": {
  "kernelspec": {
   "display_name": "Python 3 (ipykernel)",
   "language": "python",
   "name": "python3"
  },
  "language_info": {
   "codemirror_mode": {
    "name": "ipython",
    "version": 3
   },
   "file_extension": ".py",
   "mimetype": "text/x-python",
   "name": "python",
   "nbconvert_exporter": "python",
   "pygments_lexer": "ipython3",
   "version": "3.11.7"
  }
 },
 "nbformat": 4,
 "nbformat_minor": 5
}
